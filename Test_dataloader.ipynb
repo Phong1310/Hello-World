{
  "nbformat": 4,
  "nbformat_minor": 0,
  "metadata": {
    "colab": {
      "provenance": [],
      "authorship_tag": "ABX9TyOta1cARYrCHE+SsGCmdxkM",
      "include_colab_link": true
    },
    "kernelspec": {
      "name": "python3",
      "display_name": "Python 3"
    },
    "language_info": {
      "name": "python"
    }
  },
  "cells": [
    {
      "cell_type": "markdown",
      "metadata": {
        "id": "view-in-github",
        "colab_type": "text"
      },
      "source": [
        "<a href=\"https://colab.research.google.com/github/Phong1310/Hello-World/blob/main/Test_dataloader.ipynb\" target=\"_parent\"><img src=\"https://colab.research.google.com/assets/colab-badge.svg\" alt=\"Open In Colab\"/></a>"
      ]
    },
    {
      "cell_type": "code",
      "execution_count": 1,
      "metadata": {
        "id": "rNEaUcLG5EAE"
      },
      "outputs": [],
      "source": [
        "# import DataLoader\n",
        "from DataLoader.dataset_CIC_DDoS_2019 import CIC_DDoS_2019\n",
        "from DataLoader.dataset_BoT_IoT import BoT_IoT\n",
        "from DataLoader.dataset_NetML import NetML\n",
        "from DataLoader.dataset_UNSW_NB15 import UNSWNB15\n",
        "from DataLoader.dataset_CIC_IoT2023 import CIC_IoT2023\n",
        "import os\n",
        "from os import path"
      ]
    },
    {
      "cell_type": "code",
      "source": [
        "a = CIC_IoT2023()\n",
        "datadir = os.path.join('./','data')"
      ],
      "metadata": {
        "id": "F86sBYxb7Z5L"
      },
      "execution_count": 2,
      "outputs": []
    },
    {
      "cell_type": "code",
      "source": [
        "a.Down_Load_Data(datadir = datadir, load_type=\"raw\")"
      ],
      "metadata": {
        "colab": {
          "base_uri": "https://localhost:8080/"
        },
        "id": "_SCCGHYN7fXT",
        "outputId": "4f414e3a-a309-42c1-ab05-98478e638f2b"
      },
      "execution_count": 3,
      "outputs": [
        {
          "output_type": "stream",
          "name": "stdout",
          "text": [
            "Attention !!! Your chosen dataset will take 46558 MB in local storage. Use Ctrl+C to abort before the process start.\n",
            "Data already!!! No need to download.\n"
          ]
        }
      ]
    },
    {
      "cell_type": "code",
      "source": [
        "a.Load_Data(load_type = \"raw\")"
      ],
      "metadata": {
        "colab": {
          "base_uri": "https://localhost:8080/",
          "height": 345
        },
        "id": "Fqsl-cMa7ihO",
        "outputId": "f182a666-cfb4-477c-e054-d17646610cfb"
      },
      "execution_count": 4,
      "outputs": [
        {
          "output_type": "stream",
          "name": "stdout",
          "text": [
            "================================ Start load data ================================\n",
            "Begin file part-00148-363d1ba3-8ab5-4f96-bc25-4d5862db7cb9-c000.csv\n"
          ]
        },
        {
          "output_type": "error",
          "ename": "KeyError",
          "evalue": "ignored",
          "traceback": [
            "\u001b[0;31m---------------------------------------------------------------------------\u001b[0m",
            "\u001b[0;31mKeyError\u001b[0m                                  Traceback (most recent call last)",
            "\u001b[0;32m<ipython-input-4-e267eca65e42>\u001b[0m in \u001b[0;36m<cell line: 1>\u001b[0;34m()\u001b[0m\n\u001b[0;32m----> 1\u001b[0;31m \u001b[0ma\u001b[0m\u001b[0;34m.\u001b[0m\u001b[0mLoad_Data\u001b[0m\u001b[0;34m(\u001b[0m\u001b[0mload_type\u001b[0m \u001b[0;34m=\u001b[0m \u001b[0;34m\"raw\"\u001b[0m\u001b[0;34m)\u001b[0m\u001b[0;34m\u001b[0m\u001b[0;34m\u001b[0m\u001b[0m\n\u001b[0m",
            "\u001b[0;32m/content/DataLoader/dataset_CIC_IoT2023.py\u001b[0m in \u001b[0;36mLoad_Data\u001b[0;34m(base_self, datadir, load_type, file_type, limit_cnt, frac)\u001b[0m\n\u001b[1;32m    219\u001b[0m         \u001b[0mprint\u001b[0m\u001b[0;34m(\u001b[0m\u001b[0;34m\"================================ Start load data ================================\"\u001b[0m\u001b[0;34m)\u001b[0m\u001b[0;34m\u001b[0m\u001b[0;34m\u001b[0m\u001b[0m\n\u001b[1;32m    220\u001b[0m         \u001b[0;31m# base_self._FixLabel()\u001b[0m\u001b[0;34m\u001b[0m\u001b[0;34m\u001b[0m\u001b[0m\n\u001b[0;32m--> 221\u001b[0;31m         \u001b[0mbase_self\u001b[0m\u001b[0;34m.\u001b[0m\u001b[0m_load_raw_default\u001b[0m\u001b[0;34m(\u001b[0m\u001b[0mdata_dir\u001b[0m\u001b[0;34m,\u001b[0m \u001b[0mlimit_cnt\u001b[0m\u001b[0;34m,\u001b[0m \u001b[0mfrac\u001b[0m\u001b[0;34m)\u001b[0m\u001b[0;34m\u001b[0m\u001b[0;34m\u001b[0m\u001b[0m\n\u001b[0m\u001b[1;32m    222\u001b[0m         \u001b[0mbase_self\u001b[0m\u001b[0;34m.\u001b[0m\u001b[0m_reDefineLabel_by_Category\u001b[0m\u001b[0;34m(\u001b[0m\u001b[0;34m)\u001b[0m\u001b[0;34m\u001b[0m\u001b[0;34m\u001b[0m\u001b[0m\n\u001b[1;32m    223\u001b[0m         \u001b[0mprint\u001b[0m\u001b[0;34m(\u001b[0m\u001b[0;34m\"================================ Data loaded ================================\"\u001b[0m\u001b[0;34m)\u001b[0m\u001b[0;34m\u001b[0m\u001b[0;34m\u001b[0m\u001b[0m\n",
            "\u001b[0;32m/content/DataLoader/dataset_CIC_IoT2023.py\u001b[0m in \u001b[0;36m_load_raw_default\u001b[0;34m(base_self, dir_path, limit_cnt, frac)\u001b[0m\n\u001b[1;32m     88\u001b[0m                         \u001b[0;32mcontinue\u001b[0m\u001b[0;34m\u001b[0m\u001b[0;34m\u001b[0m\u001b[0m\n\u001b[1;32m     89\u001b[0m \u001b[0;34m\u001b[0m\u001b[0m\n\u001b[0;32m---> 90\u001b[0;31m                     \u001b[0mmax_cnt_chunk\u001b[0m \u001b[0;34m=\u001b[0m \u001b[0mmin\u001b[0m\u001b[0;34m(\u001b[0m\u001b[0mint\u001b[0m\u001b[0;34m(\u001b[0m\u001b[0mlimit_cnt\u001b[0m \u001b[0;34m*\u001b[0m \u001b[0;34m(\u001b[0m\u001b[0mx_cnt\u001b[0m \u001b[0;34m/\u001b[0m \u001b[0mbase_self\u001b[0m\u001b[0;34m.\u001b[0m\u001b[0m_real_cnt\u001b[0m\u001b[0;34m[\u001b[0m\u001b[0mx\u001b[0m\u001b[0;34m]\u001b[0m\u001b[0;34m)\u001b[0m \u001b[0;34m+\u001b[0m\u001b[0;36m1\u001b[0m\u001b[0;34m)\u001b[0m\u001b[0;34m,\u001b[0m \u001b[0msub_set\u001b[0m\u001b[0;34m.\u001b[0m\u001b[0mshape\u001b[0m\u001b[0;34m[\u001b[0m\u001b[0;36m0\u001b[0m\u001b[0;34m]\u001b[0m\u001b[0;34m)\u001b[0m\u001b[0;34m\u001b[0m\u001b[0;34m\u001b[0m\u001b[0m\n\u001b[0m\u001b[1;32m     91\u001b[0m \u001b[0;34m\u001b[0m\u001b[0m\n\u001b[1;32m     92\u001b[0m                     \u001b[0;32mif\u001b[0m \u001b[0mfrac\u001b[0m \u001b[0;34m!=\u001b[0m \u001b[0;32mNone\u001b[0m\u001b[0;34m:\u001b[0m\u001b[0;34m\u001b[0m\u001b[0;34m\u001b[0m\u001b[0m\n",
            "\u001b[0;31mKeyError\u001b[0m: 'DDoS-ICMP_Flood'"
          ]
        }
      ]
    },
    {
      "cell_type": "code",
      "source": [
        "df = a.To_dataframe()"
      ],
      "metadata": {
        "id": "J6fe9GGnEKXT"
      },
      "execution_count": null,
      "outputs": []
    },
    {
      "cell_type": "code",
      "source": [
        "df"
      ],
      "metadata": {
        "id": "DCFa6BshENTp"
      },
      "execution_count": null,
      "outputs": []
    }
  ]
}